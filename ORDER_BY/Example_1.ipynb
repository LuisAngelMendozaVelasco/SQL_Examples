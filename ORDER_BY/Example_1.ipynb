{
 "cells": [
  {
   "cell_type": "markdown",
   "metadata": {},
   "source": [
    "# Example 1"
   ]
  },
  {
   "cell_type": "markdown",
   "metadata": {},
   "source": [
    "ORDER BY"
   ]
  },
  {
   "cell_type": "markdown",
   "metadata": {},
   "source": [
    "## Import libraries"
   ]
  },
  {
   "cell_type": "code",
   "execution_count": 1,
   "metadata": {},
   "outputs": [],
   "source": [
    "import sqlite3\n",
    "import pandas as pd"
   ]
  },
  {
   "cell_type": "markdown",
   "metadata": {},
   "source": [
    "## Create a connection object"
   ]
  },
  {
   "cell_type": "code",
   "execution_count": 2,
   "metadata": {},
   "outputs": [],
   "source": [
    "con = sqlite3.connect('../Database.db')\n",
    "cur = con.cursor()"
   ]
  },
  {
   "cell_type": "markdown",
   "metadata": {},
   "source": [
    "## SQL statement"
   ]
  },
  {
   "cell_type": "code",
   "execution_count": 3,
   "metadata": {},
   "outputs": [],
   "source": [
    "# The ORDER BY keyword is used to sort the result-set in ascending or descending order.\n",
    "# The ORDER BY keyword sorts the records in ascending order by default.\n",
    "query = '''\n",
    "            SELECT * \n",
    "            FROM Customers\n",
    "            ORDER BY Country\n",
    "        '''"
   ]
  },
  {
   "cell_type": "markdown",
   "metadata": {},
   "source": [
    "## Show table"
   ]
  },
  {
   "cell_type": "code",
   "execution_count": 4,
   "metadata": {},
   "outputs": [
    {
     "data": {
      "text/html": [
       "<div>\n",
       "<style scoped>\n",
       "    .dataframe tbody tr th:only-of-type {\n",
       "        vertical-align: middle;\n",
       "    }\n",
       "\n",
       "    .dataframe tbody tr th {\n",
       "        vertical-align: top;\n",
       "    }\n",
       "\n",
       "    .dataframe thead th {\n",
       "        text-align: right;\n",
       "    }\n",
       "</style>\n",
       "<table border=\"1\" class=\"dataframe\">\n",
       "  <thead>\n",
       "    <tr style=\"text-align: right;\">\n",
       "      <th></th>\n",
       "      <th>CustomerID</th>\n",
       "      <th>CustomerName</th>\n",
       "      <th>ContactName</th>\n",
       "      <th>Address</th>\n",
       "      <th>City</th>\n",
       "      <th>PostalCode</th>\n",
       "      <th>Country</th>\n",
       "    </tr>\n",
       "  </thead>\n",
       "  <tbody>\n",
       "    <tr>\n",
       "      <th>0</th>\n",
       "      <td>12</td>\n",
       "      <td>Cactus Comidas para llevar</td>\n",
       "      <td>Patricio Simpson</td>\n",
       "      <td>Cerrito 333</td>\n",
       "      <td>Buenos Aires</td>\n",
       "      <td>1010</td>\n",
       "      <td>Argentina</td>\n",
       "    </tr>\n",
       "    <tr>\n",
       "      <th>1</th>\n",
       "      <td>54</td>\n",
       "      <td>Océano Atlántico Ltda.</td>\n",
       "      <td>Yvonne Moncada</td>\n",
       "      <td>Ing. Gustavo Moncada 8585 Piso 20-A</td>\n",
       "      <td>Buenos Aires</td>\n",
       "      <td>1010</td>\n",
       "      <td>Argentina</td>\n",
       "    </tr>\n",
       "    <tr>\n",
       "      <th>2</th>\n",
       "      <td>64</td>\n",
       "      <td>Rancho grande</td>\n",
       "      <td>Sergio Gutiérrez</td>\n",
       "      <td>Av. del Libertador 900</td>\n",
       "      <td>Buenos Aires</td>\n",
       "      <td>1010</td>\n",
       "      <td>Argentina</td>\n",
       "    </tr>\n",
       "    <tr>\n",
       "      <th>3</th>\n",
       "      <td>20</td>\n",
       "      <td>Ernst Handel</td>\n",
       "      <td>Roland Mendel</td>\n",
       "      <td>Kirchgasse 6</td>\n",
       "      <td>Graz</td>\n",
       "      <td>8010</td>\n",
       "      <td>Austria</td>\n",
       "    </tr>\n",
       "    <tr>\n",
       "      <th>4</th>\n",
       "      <td>59</td>\n",
       "      <td>Piccolo und mehr</td>\n",
       "      <td>Georg Pipps</td>\n",
       "      <td>Geislweg 14</td>\n",
       "      <td>Salzburg</td>\n",
       "      <td>5020</td>\n",
       "      <td>Austria</td>\n",
       "    </tr>\n",
       "  </tbody>\n",
       "</table>\n",
       "</div>"
      ],
      "text/plain": [
       "   CustomerID                CustomerName       ContactName  \\\n",
       "0          12  Cactus Comidas para llevar  Patricio Simpson   \n",
       "1          54      Océano Atlántico Ltda.    Yvonne Moncada   \n",
       "2          64               Rancho grande  Sergio Gutiérrez   \n",
       "3          20                Ernst Handel     Roland Mendel   \n",
       "4          59            Piccolo und mehr       Georg Pipps   \n",
       "\n",
       "                               Address          City PostalCode    Country  \n",
       "0                          Cerrito 333  Buenos Aires       1010  Argentina  \n",
       "1  Ing. Gustavo Moncada 8585 Piso 20-A  Buenos Aires       1010  Argentina  \n",
       "2               Av. del Libertador 900  Buenos Aires       1010  Argentina  \n",
       "3                         Kirchgasse 6          Graz       8010    Austria  \n",
       "4                          Geislweg 14      Salzburg       5020    Austria  "
      ]
     },
     "execution_count": 4,
     "metadata": {},
     "output_type": "execute_result"
    }
   ],
   "source": [
    "df = pd.read_sql_query(query, con)\n",
    "df.head()"
   ]
  },
  {
   "cell_type": "code",
   "execution_count": 5,
   "metadata": {},
   "outputs": [
    {
     "name": "stdout",
     "output_type": "stream",
     "text": [
      "<class 'pandas.core.frame.DataFrame'>\n",
      "RangeIndex: 91 entries, 0 to 90\n",
      "Data columns (total 7 columns):\n",
      " #   Column        Non-Null Count  Dtype \n",
      "---  ------        --------------  ----- \n",
      " 0   CustomerID    91 non-null     int64 \n",
      " 1   CustomerName  91 non-null     object\n",
      " 2   ContactName   91 non-null     object\n",
      " 3   Address       91 non-null     object\n",
      " 4   City          91 non-null     object\n",
      " 5   PostalCode    91 non-null     object\n",
      " 6   Country       91 non-null     object\n",
      "dtypes: int64(1), object(6)\n",
      "memory usage: 5.1+ KB\n"
     ]
    }
   ],
   "source": [
    "df.info()"
   ]
  },
  {
   "cell_type": "markdown",
   "metadata": {},
   "source": [
    "## Close the connection"
   ]
  },
  {
   "cell_type": "code",
   "execution_count": 6,
   "metadata": {},
   "outputs": [],
   "source": [
    "con.close()"
   ]
  }
 ],
 "metadata": {
  "kernelspec": {
   "display_name": "Python 3.9.12 ('base')",
   "language": "python",
   "name": "python3"
  },
  "language_info": {
   "codemirror_mode": {
    "name": "ipython",
    "version": 3
   },
   "file_extension": ".py",
   "mimetype": "text/x-python",
   "name": "python",
   "nbconvert_exporter": "python",
   "pygments_lexer": "ipython3",
   "version": "3.11.5"
  },
  "orig_nbformat": 4,
  "vscode": {
   "interpreter": {
    "hash": "3cfd106f785ae1e288da74ae733f9b47f8a2699db986927140be0bc196406f4c"
   }
  }
 },
 "nbformat": 4,
 "nbformat_minor": 2
}
