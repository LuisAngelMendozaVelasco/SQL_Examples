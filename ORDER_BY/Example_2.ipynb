{
 "cells": [
  {
   "cell_type": "markdown",
   "metadata": {},
   "source": [
    "# Example 2"
   ]
  },
  {
   "cell_type": "markdown",
   "metadata": {},
   "source": [
    "ORDER BY DESC"
   ]
  },
  {
   "cell_type": "markdown",
   "metadata": {},
   "source": [
    "## Import libraries"
   ]
  },
  {
   "cell_type": "code",
   "execution_count": 1,
   "metadata": {},
   "outputs": [],
   "source": [
    "import sqlite3\n",
    "import pandas as pd"
   ]
  },
  {
   "cell_type": "markdown",
   "metadata": {},
   "source": [
    "## Create a connection object"
   ]
  },
  {
   "cell_type": "code",
   "execution_count": 2,
   "metadata": {},
   "outputs": [],
   "source": [
    "con = sqlite3.connect('../Database.db')\n",
    "cur = con.cursor()"
   ]
  },
  {
   "cell_type": "markdown",
   "metadata": {},
   "source": [
    "## SQL statement"
   ]
  },
  {
   "cell_type": "code",
   "execution_count": 3,
   "metadata": {},
   "outputs": [],
   "source": [
    "# To sort the records in descending order, use the DESC.\n",
    "query = '''\n",
    "            SELECT * \n",
    "            FROM Customers\n",
    "            ORDER BY Country DESC\n",
    "        '''"
   ]
  },
  {
   "cell_type": "markdown",
   "metadata": {},
   "source": [
    "## Show table"
   ]
  },
  {
   "cell_type": "code",
   "execution_count": 4,
   "metadata": {},
   "outputs": [
    {
     "data": {
      "text/html": [
       "<div>\n",
       "<style scoped>\n",
       "    .dataframe tbody tr th:only-of-type {\n",
       "        vertical-align: middle;\n",
       "    }\n",
       "\n",
       "    .dataframe tbody tr th {\n",
       "        vertical-align: top;\n",
       "    }\n",
       "\n",
       "    .dataframe thead th {\n",
       "        text-align: right;\n",
       "    }\n",
       "</style>\n",
       "<table border=\"1\" class=\"dataframe\">\n",
       "  <thead>\n",
       "    <tr style=\"text-align: right;\">\n",
       "      <th></th>\n",
       "      <th>CustomerID</th>\n",
       "      <th>CustomerName</th>\n",
       "      <th>ContactName</th>\n",
       "      <th>Address</th>\n",
       "      <th>City</th>\n",
       "      <th>PostalCode</th>\n",
       "      <th>Country</th>\n",
       "    </tr>\n",
       "  </thead>\n",
       "  <tbody>\n",
       "    <tr>\n",
       "      <th>0</th>\n",
       "      <td>33</td>\n",
       "      <td>GROSELLA-Restaurante</td>\n",
       "      <td>Manuel Pereira</td>\n",
       "      <td>5ª Ave. Los Palos Grandes</td>\n",
       "      <td>Caracas</td>\n",
       "      <td>1081</td>\n",
       "      <td>Venezuela</td>\n",
       "    </tr>\n",
       "    <tr>\n",
       "      <th>1</th>\n",
       "      <td>35</td>\n",
       "      <td>HILARIÓN-Abastos</td>\n",
       "      <td>Carlos Hernández</td>\n",
       "      <td>Carrera 22 con Ave. Carlos Soublette #8-35</td>\n",
       "      <td>San Cristóbal</td>\n",
       "      <td>5022</td>\n",
       "      <td>Venezuela</td>\n",
       "    </tr>\n",
       "    <tr>\n",
       "      <th>2</th>\n",
       "      <td>46</td>\n",
       "      <td>LILA-Supermercado</td>\n",
       "      <td>Carlos González</td>\n",
       "      <td>Carrera 52 con Ave. Bolívar #65-98 Llano Largo</td>\n",
       "      <td>Barquisimeto</td>\n",
       "      <td>3508</td>\n",
       "      <td>Venezuela</td>\n",
       "    </tr>\n",
       "    <tr>\n",
       "      <th>3</th>\n",
       "      <td>47</td>\n",
       "      <td>LINO-Delicateses</td>\n",
       "      <td>Felipe Izquierdo</td>\n",
       "      <td>Ave. 5 de Mayo Porlamar</td>\n",
       "      <td>I. de Margarita</td>\n",
       "      <td>4980</td>\n",
       "      <td>Venezuela</td>\n",
       "    </tr>\n",
       "    <tr>\n",
       "      <th>4</th>\n",
       "      <td>32</td>\n",
       "      <td>Great Lakes Food Market</td>\n",
       "      <td>Howard Snyder</td>\n",
       "      <td>2732 Baker Blvd.</td>\n",
       "      <td>Eugene</td>\n",
       "      <td>97403</td>\n",
       "      <td>USA</td>\n",
       "    </tr>\n",
       "  </tbody>\n",
       "</table>\n",
       "</div>"
      ],
      "text/plain": [
       "   CustomerID             CustomerName       ContactName  \\\n",
       "0          33     GROSELLA-Restaurante    Manuel Pereira   \n",
       "1          35         HILARIÓN-Abastos  Carlos Hernández   \n",
       "2          46        LILA-Supermercado   Carlos González   \n",
       "3          47         LINO-Delicateses  Felipe Izquierdo   \n",
       "4          32  Great Lakes Food Market     Howard Snyder   \n",
       "\n",
       "                                          Address             City PostalCode  \\\n",
       "0                       5ª Ave. Los Palos Grandes          Caracas       1081   \n",
       "1      Carrera 22 con Ave. Carlos Soublette #8-35    San Cristóbal       5022   \n",
       "2  Carrera 52 con Ave. Bolívar #65-98 Llano Largo     Barquisimeto       3508   \n",
       "3                         Ave. 5 de Mayo Porlamar  I. de Margarita       4980   \n",
       "4                                2732 Baker Blvd.           Eugene      97403   \n",
       "\n",
       "     Country  \n",
       "0  Venezuela  \n",
       "1  Venezuela  \n",
       "2  Venezuela  \n",
       "3  Venezuela  \n",
       "4        USA  "
      ]
     },
     "execution_count": 4,
     "metadata": {},
     "output_type": "execute_result"
    }
   ],
   "source": [
    "df = pd.read_sql_query(query, con)\n",
    "df.head()"
   ]
  },
  {
   "cell_type": "code",
   "execution_count": 5,
   "metadata": {},
   "outputs": [
    {
     "name": "stdout",
     "output_type": "stream",
     "text": [
      "<class 'pandas.core.frame.DataFrame'>\n",
      "RangeIndex: 91 entries, 0 to 90\n",
      "Data columns (total 7 columns):\n",
      " #   Column        Non-Null Count  Dtype \n",
      "---  ------        --------------  ----- \n",
      " 0   CustomerID    91 non-null     int64 \n",
      " 1   CustomerName  91 non-null     object\n",
      " 2   ContactName   91 non-null     object\n",
      " 3   Address       91 non-null     object\n",
      " 4   City          91 non-null     object\n",
      " 5   PostalCode    91 non-null     object\n",
      " 6   Country       91 non-null     object\n",
      "dtypes: int64(1), object(6)\n",
      "memory usage: 5.1+ KB\n"
     ]
    }
   ],
   "source": [
    "df.info()"
   ]
  },
  {
   "cell_type": "markdown",
   "metadata": {},
   "source": [
    "## Close the connection"
   ]
  },
  {
   "cell_type": "code",
   "execution_count": 6,
   "metadata": {},
   "outputs": [],
   "source": [
    "con.close()"
   ]
  }
 ],
 "metadata": {
  "kernelspec": {
   "display_name": "Python 3.9.12 ('base')",
   "language": "python",
   "name": "python3"
  },
  "language_info": {
   "codemirror_mode": {
    "name": "ipython",
    "version": 3
   },
   "file_extension": ".py",
   "mimetype": "text/x-python",
   "name": "python",
   "nbconvert_exporter": "python",
   "pygments_lexer": "ipython3",
   "version": "3.11.5"
  },
  "orig_nbformat": 4,
  "vscode": {
   "interpreter": {
    "hash": "3cfd106f785ae1e288da74ae733f9b47f8a2699db986927140be0bc196406f4c"
   }
  }
 },
 "nbformat": 4,
 "nbformat_minor": 2
}
