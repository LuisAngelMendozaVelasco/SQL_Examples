{
 "cells": [
  {
   "cell_type": "markdown",
   "metadata": {},
   "source": [
    "# Example 1"
   ]
  },
  {
   "cell_type": "markdown",
   "metadata": {},
   "source": [
    "BETWEEN"
   ]
  },
  {
   "cell_type": "markdown",
   "metadata": {},
   "source": [
    "## Import libraries"
   ]
  },
  {
   "cell_type": "code",
   "execution_count": 1,
   "metadata": {},
   "outputs": [],
   "source": [
    "import sqlite3\n",
    "import pandas as pd"
   ]
  },
  {
   "cell_type": "markdown",
   "metadata": {},
   "source": [
    "## Create a connection object"
   ]
  },
  {
   "cell_type": "code",
   "execution_count": 2,
   "metadata": {},
   "outputs": [],
   "source": [
    "con = sqlite3.connect('../Database.db')\n",
    "cur = con.cursor()"
   ]
  },
  {
   "cell_type": "markdown",
   "metadata": {},
   "source": [
    "## SQL statement"
   ]
  },
  {
   "cell_type": "code",
   "execution_count": 3,
   "metadata": {},
   "outputs": [],
   "source": [
    "# The BETWEEN operator selects values within a given range. The values can be numbers, text, or dates.\n",
    "# The BETWEEN operator is inclusive: begin and end values are included. \n",
    "query = '''\n",
    "            SELECT * \n",
    "            FROM Products\n",
    "            WHERE Price BETWEEN 10 AND 20\n",
    "        '''"
   ]
  },
  {
   "cell_type": "markdown",
   "metadata": {},
   "source": [
    "## Show table"
   ]
  },
  {
   "cell_type": "code",
   "execution_count": 4,
   "metadata": {},
   "outputs": [
    {
     "data": {
      "text/html": [
       "<div>\n",
       "<style scoped>\n",
       "    .dataframe tbody tr th:only-of-type {\n",
       "        vertical-align: middle;\n",
       "    }\n",
       "\n",
       "    .dataframe tbody tr th {\n",
       "        vertical-align: top;\n",
       "    }\n",
       "\n",
       "    .dataframe thead th {\n",
       "        text-align: right;\n",
       "    }\n",
       "</style>\n",
       "<table border=\"1\" class=\"dataframe\">\n",
       "  <thead>\n",
       "    <tr style=\"text-align: right;\">\n",
       "      <th></th>\n",
       "      <th>ProductID</th>\n",
       "      <th>ProductName</th>\n",
       "      <th>SupplierID</th>\n",
       "      <th>CategoryID</th>\n",
       "      <th>Unit</th>\n",
       "      <th>Price</th>\n",
       "    </tr>\n",
       "  </thead>\n",
       "  <tbody>\n",
       "    <tr>\n",
       "      <th>0</th>\n",
       "      <td>1</td>\n",
       "      <td>Chais</td>\n",
       "      <td>1</td>\n",
       "      <td>1</td>\n",
       "      <td>10 boxes x 20 bags</td>\n",
       "      <td>18.00</td>\n",
       "    </tr>\n",
       "    <tr>\n",
       "      <th>1</th>\n",
       "      <td>2</td>\n",
       "      <td>Chang</td>\n",
       "      <td>1</td>\n",
       "      <td>1</td>\n",
       "      <td>24 - 12 oz bottles</td>\n",
       "      <td>19.00</td>\n",
       "    </tr>\n",
       "    <tr>\n",
       "      <th>2</th>\n",
       "      <td>3</td>\n",
       "      <td>Aniseed Syrup</td>\n",
       "      <td>1</td>\n",
       "      <td>2</td>\n",
       "      <td>12 - 550 ml bottles</td>\n",
       "      <td>10.00</td>\n",
       "    </tr>\n",
       "    <tr>\n",
       "      <th>3</th>\n",
       "      <td>15</td>\n",
       "      <td>Genen Shouyu</td>\n",
       "      <td>6</td>\n",
       "      <td>2</td>\n",
       "      <td>24 - 250 ml bottles</td>\n",
       "      <td>15.50</td>\n",
       "    </tr>\n",
       "    <tr>\n",
       "      <th>4</th>\n",
       "      <td>16</td>\n",
       "      <td>Pavlova</td>\n",
       "      <td>7</td>\n",
       "      <td>3</td>\n",
       "      <td>32 - 500 g boxes</td>\n",
       "      <td>17.45</td>\n",
       "    </tr>\n",
       "  </tbody>\n",
       "</table>\n",
       "</div>"
      ],
      "text/plain": [
       "   ProductID    ProductName  SupplierID  CategoryID                 Unit  \\\n",
       "0          1          Chais           1           1   10 boxes x 20 bags   \n",
       "1          2          Chang           1           1   24 - 12 oz bottles   \n",
       "2          3  Aniseed Syrup           1           2  12 - 550 ml bottles   \n",
       "3         15   Genen Shouyu           6           2  24 - 250 ml bottles   \n",
       "4         16        Pavlova           7           3     32 - 500 g boxes   \n",
       "\n",
       "   Price  \n",
       "0  18.00  \n",
       "1  19.00  \n",
       "2  10.00  \n",
       "3  15.50  \n",
       "4  17.45  "
      ]
     },
     "execution_count": 4,
     "metadata": {},
     "output_type": "execute_result"
    }
   ],
   "source": [
    "df = pd.read_sql_query(query, con)\n",
    "df.head()"
   ]
  },
  {
   "cell_type": "code",
   "execution_count": 5,
   "metadata": {},
   "outputs": [
    {
     "name": "stdout",
     "output_type": "stream",
     "text": [
      "<class 'pandas.core.frame.DataFrame'>\n",
      "RangeIndex: 29 entries, 0 to 28\n",
      "Data columns (total 6 columns):\n",
      " #   Column       Non-Null Count  Dtype  \n",
      "---  ------       --------------  -----  \n",
      " 0   ProductID    29 non-null     int64  \n",
      " 1   ProductName  29 non-null     object \n",
      " 2   SupplierID   29 non-null     int64  \n",
      " 3   CategoryID   29 non-null     int64  \n",
      " 4   Unit         29 non-null     object \n",
      " 5   Price        29 non-null     float64\n",
      "dtypes: float64(1), int64(3), object(2)\n",
      "memory usage: 1.5+ KB\n"
     ]
    }
   ],
   "source": [
    "df.info()"
   ]
  },
  {
   "cell_type": "markdown",
   "metadata": {},
   "source": [
    "## Close the connection"
   ]
  },
  {
   "cell_type": "code",
   "execution_count": 6,
   "metadata": {},
   "outputs": [],
   "source": [
    "con.close()"
   ]
  }
 ],
 "metadata": {
  "kernelspec": {
   "display_name": "Python 3.9.12 ('base')",
   "language": "python",
   "name": "python3"
  },
  "language_info": {
   "codemirror_mode": {
    "name": "ipython",
    "version": 3
   },
   "file_extension": ".py",
   "mimetype": "text/x-python",
   "name": "python",
   "nbconvert_exporter": "python",
   "pygments_lexer": "ipython3",
   "version": "3.11.5"
  },
  "orig_nbformat": 4,
  "vscode": {
   "interpreter": {
    "hash": "3cfd106f785ae1e288da74ae733f9b47f8a2699db986927140be0bc196406f4c"
   }
  }
 },
 "nbformat": 4,
 "nbformat_minor": 2
}
