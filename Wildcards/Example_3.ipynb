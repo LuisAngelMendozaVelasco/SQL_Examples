{
 "cells": [
  {
   "cell_type": "markdown",
   "metadata": {},
   "source": [
    "# Example 3"
   ]
  },
  {
   "cell_type": "markdown",
   "metadata": {},
   "source": [
    "Using the [charlist] Wildcard"
   ]
  },
  {
   "cell_type": "markdown",
   "metadata": {},
   "source": [
    "## Import libraries"
   ]
  },
  {
   "cell_type": "code",
   "execution_count": 1,
   "metadata": {},
   "outputs": [],
   "source": [
    "import sqlite3\n",
    "import pandas as pd"
   ]
  },
  {
   "cell_type": "markdown",
   "metadata": {},
   "source": [
    "## Create a connection object"
   ]
  },
  {
   "cell_type": "code",
   "execution_count": 2,
   "metadata": {},
   "outputs": [],
   "source": [
    "con = sqlite3.connect('../Database.db')\n",
    "cur = con.cursor()"
   ]
  },
  {
   "cell_type": "markdown",
   "metadata": {},
   "source": [
    "## SQL statement"
   ]
  },
  {
   "cell_type": "code",
   "execution_count": 3,
   "metadata": {},
   "outputs": [],
   "source": [
    "# [] -> Represents any single character within the brackets -> h[oa]t finds hot and hat, but not hit.\n",
    "# ^ -> Represents any character not in the brackets -> h[^oa]t finds hit, but not hot and hat.\n",
    "# - -> Represents any single character within the specified range -> c[a-b]t finds cat and cbt.\n",
    "# [] is not supported in sqlite3.\n",
    "query = '''\n",
    "            SELECT * \n",
    "            FROM Customers\n",
    "            WHERE City LIKE \"b%\" OR City LIKE \"s%\" OR City LIKE \"p%\"\n",
    "        '''"
   ]
  },
  {
   "cell_type": "markdown",
   "metadata": {},
   "source": [
    "## Show table"
   ]
  },
  {
   "cell_type": "code",
   "execution_count": 4,
   "metadata": {},
   "outputs": [
    {
     "data": {
      "text/html": [
       "<div>\n",
       "<style scoped>\n",
       "    .dataframe tbody tr th:only-of-type {\n",
       "        vertical-align: middle;\n",
       "    }\n",
       "\n",
       "    .dataframe tbody tr th {\n",
       "        vertical-align: top;\n",
       "    }\n",
       "\n",
       "    .dataframe thead th {\n",
       "        text-align: right;\n",
       "    }\n",
       "</style>\n",
       "<table border=\"1\" class=\"dataframe\">\n",
       "  <thead>\n",
       "    <tr style=\"text-align: right;\">\n",
       "      <th></th>\n",
       "      <th>CustomerID</th>\n",
       "      <th>CustomerName</th>\n",
       "      <th>ContactName</th>\n",
       "      <th>Address</th>\n",
       "      <th>City</th>\n",
       "      <th>PostalCode</th>\n",
       "      <th>Country</th>\n",
       "    </tr>\n",
       "  </thead>\n",
       "  <tbody>\n",
       "    <tr>\n",
       "      <th>0</th>\n",
       "      <td>1</td>\n",
       "      <td>Alfreds Futterkiste</td>\n",
       "      <td>Maria Anders</td>\n",
       "      <td>Obere Str. 57</td>\n",
       "      <td>Berlin</td>\n",
       "      <td>12209</td>\n",
       "      <td>Germany</td>\n",
       "    </tr>\n",
       "    <tr>\n",
       "      <th>1</th>\n",
       "      <td>7</td>\n",
       "      <td>Blondel père et fils</td>\n",
       "      <td>Frédérique Citeaux</td>\n",
       "      <td>24, place Kléber</td>\n",
       "      <td>Strasbourg</td>\n",
       "      <td>67000</td>\n",
       "      <td>France</td>\n",
       "    </tr>\n",
       "    <tr>\n",
       "      <th>2</th>\n",
       "      <td>12</td>\n",
       "      <td>Cactus Comidas para llevar</td>\n",
       "      <td>Patricio Simpson</td>\n",
       "      <td>Cerrito 333</td>\n",
       "      <td>Buenos Aires</td>\n",
       "      <td>1010</td>\n",
       "      <td>Argentina</td>\n",
       "    </tr>\n",
       "    <tr>\n",
       "      <th>3</th>\n",
       "      <td>14</td>\n",
       "      <td>Chop-suey Chinese</td>\n",
       "      <td>Yang Wang</td>\n",
       "      <td>Hauptstr. 29</td>\n",
       "      <td>Bern</td>\n",
       "      <td>3012</td>\n",
       "      <td>Switzerland</td>\n",
       "    </tr>\n",
       "    <tr>\n",
       "      <th>4</th>\n",
       "      <td>15</td>\n",
       "      <td>Comércio Mineiro</td>\n",
       "      <td>Pedro Afonso</td>\n",
       "      <td>Av. dos Lusíadas, 23</td>\n",
       "      <td>São Paulo</td>\n",
       "      <td>05432-043</td>\n",
       "      <td>Brazil</td>\n",
       "    </tr>\n",
       "  </tbody>\n",
       "</table>\n",
       "</div>"
      ],
      "text/plain": [
       "   CustomerID                CustomerName         ContactName  \\\n",
       "0           1         Alfreds Futterkiste        Maria Anders   \n",
       "1           7        Blondel père et fils  Frédérique Citeaux   \n",
       "2          12  Cactus Comidas para llevar    Patricio Simpson   \n",
       "3          14           Chop-suey Chinese           Yang Wang   \n",
       "4          15            Comércio Mineiro        Pedro Afonso   \n",
       "\n",
       "                Address          City PostalCode      Country  \n",
       "0         Obere Str. 57        Berlin      12209      Germany  \n",
       "1      24, place Kléber    Strasbourg      67000       France  \n",
       "2           Cerrito 333  Buenos Aires       1010    Argentina  \n",
       "3          Hauptstr. 29          Bern       3012  Switzerland  \n",
       "4  Av. dos Lusíadas, 23     São Paulo  05432-043       Brazil  "
      ]
     },
     "execution_count": 4,
     "metadata": {},
     "output_type": "execute_result"
    }
   ],
   "source": [
    "df = pd.read_sql_query(query, con)\n",
    "df.head()"
   ]
  },
  {
   "cell_type": "code",
   "execution_count": 5,
   "metadata": {},
   "outputs": [
    {
     "name": "stdout",
     "output_type": "stream",
     "text": [
      "<class 'pandas.core.frame.DataFrame'>\n",
      "RangeIndex: 29 entries, 0 to 28\n",
      "Data columns (total 7 columns):\n",
      " #   Column        Non-Null Count  Dtype \n",
      "---  ------        --------------  ----- \n",
      " 0   CustomerID    29 non-null     int64 \n",
      " 1   CustomerName  29 non-null     object\n",
      " 2   ContactName   29 non-null     object\n",
      " 3   Address       29 non-null     object\n",
      " 4   City          29 non-null     object\n",
      " 5   PostalCode    29 non-null     object\n",
      " 6   Country       29 non-null     object\n",
      "dtypes: int64(1), object(6)\n",
      "memory usage: 1.7+ KB\n"
     ]
    }
   ],
   "source": [
    "df.info()"
   ]
  },
  {
   "cell_type": "markdown",
   "metadata": {},
   "source": [
    "## Close the connection"
   ]
  },
  {
   "cell_type": "code",
   "execution_count": 6,
   "metadata": {},
   "outputs": [],
   "source": [
    "con.close()"
   ]
  }
 ],
 "metadata": {
  "kernelspec": {
   "display_name": "Python 3.9.12 ('base')",
   "language": "python",
   "name": "python3"
  },
  "language_info": {
   "codemirror_mode": {
    "name": "ipython",
    "version": 3
   },
   "file_extension": ".py",
   "mimetype": "text/x-python",
   "name": "python",
   "nbconvert_exporter": "python",
   "pygments_lexer": "ipython3",
   "version": "3.11.5"
  },
  "orig_nbformat": 4,
  "vscode": {
   "interpreter": {
    "hash": "3cfd106f785ae1e288da74ae733f9b47f8a2699db986927140be0bc196406f4c"
   }
  }
 },
 "nbformat": 4,
 "nbformat_minor": 2
}
