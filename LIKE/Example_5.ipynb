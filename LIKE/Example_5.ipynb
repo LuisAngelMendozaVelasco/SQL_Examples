{
 "cells": [
  {
   "cell_type": "markdown",
   "metadata": {},
   "source": [
    "# Example 5"
   ]
  },
  {
   "cell_type": "markdown",
   "metadata": {},
   "source": [
    "LIKE - select all table rows that starts with \"a\" and ends with \"o\""
   ]
  },
  {
   "cell_type": "markdown",
   "metadata": {},
   "source": [
    "## Import libraries"
   ]
  },
  {
   "cell_type": "code",
   "execution_count": 1,
   "metadata": {},
   "outputs": [],
   "source": [
    "import sqlite3\n",
    "import pandas as pd"
   ]
  },
  {
   "cell_type": "markdown",
   "metadata": {},
   "source": [
    "## Create a connection object"
   ]
  },
  {
   "cell_type": "code",
   "execution_count": 2,
   "metadata": {},
   "outputs": [],
   "source": [
    "con = sqlite3.connect('../Database.db')\n",
    "cur = con.cursor()"
   ]
  },
  {
   "cell_type": "markdown",
   "metadata": {},
   "source": [
    "## SQL statement"
   ]
  },
  {
   "cell_type": "code",
   "execution_count": 3,
   "metadata": {},
   "outputs": [],
   "source": [
    "# Finds any values that start with \"a\" and ends with \"o\".\n",
    "query = '''\n",
    "            SELECT * \n",
    "            FROM Customers\n",
    "            WHERE ContactName LIKE \"a%o\"\n",
    "        '''"
   ]
  },
  {
   "cell_type": "markdown",
   "metadata": {},
   "source": [
    "## Show table"
   ]
  },
  {
   "cell_type": "code",
   "execution_count": 4,
   "metadata": {},
   "outputs": [
    {
     "data": {
      "text/html": [
       "<div>\n",
       "<style scoped>\n",
       "    .dataframe tbody tr th:only-of-type {\n",
       "        vertical-align: middle;\n",
       "    }\n",
       "\n",
       "    .dataframe tbody tr th {\n",
       "        vertical-align: top;\n",
       "    }\n",
       "\n",
       "    .dataframe thead th {\n",
       "        text-align: right;\n",
       "    }\n",
       "</style>\n",
       "<table border=\"1\" class=\"dataframe\">\n",
       "  <thead>\n",
       "    <tr style=\"text-align: right;\">\n",
       "      <th></th>\n",
       "      <th>CustomerID</th>\n",
       "      <th>CustomerName</th>\n",
       "      <th>ContactName</th>\n",
       "      <th>Address</th>\n",
       "      <th>City</th>\n",
       "      <th>PostalCode</th>\n",
       "      <th>Country</th>\n",
       "    </tr>\n",
       "  </thead>\n",
       "  <tbody>\n",
       "    <tr>\n",
       "      <th>0</th>\n",
       "      <td>2</td>\n",
       "      <td>Ana Trujillo Emparedados y helados</td>\n",
       "      <td>Ana Trujillo</td>\n",
       "      <td>Avda. de la Constitución 2222</td>\n",
       "      <td>México D.F.</td>\n",
       "      <td>05021</td>\n",
       "      <td>Mexico</td>\n",
       "    </tr>\n",
       "    <tr>\n",
       "      <th>1</th>\n",
       "      <td>3</td>\n",
       "      <td>Antonio Moreno Taquería</td>\n",
       "      <td>Antonio Moreno</td>\n",
       "      <td>Mataderos 2312</td>\n",
       "      <td>México D.F.</td>\n",
       "      <td>05023</td>\n",
       "      <td>Mexico</td>\n",
       "    </tr>\n",
       "    <tr>\n",
       "      <th>2</th>\n",
       "      <td>69</td>\n",
       "      <td>Romero y tomillo</td>\n",
       "      <td>Alejandra Camino</td>\n",
       "      <td>Gran Vía, 1</td>\n",
       "      <td>Madrid</td>\n",
       "      <td>28001</td>\n",
       "      <td>Spain</td>\n",
       "    </tr>\n",
       "  </tbody>\n",
       "</table>\n",
       "</div>"
      ],
      "text/plain": [
       "   CustomerID                        CustomerName       ContactName  \\\n",
       "0           2  Ana Trujillo Emparedados y helados      Ana Trujillo   \n",
       "1           3             Antonio Moreno Taquería    Antonio Moreno   \n",
       "2          69                    Romero y tomillo  Alejandra Camino   \n",
       "\n",
       "                         Address         City PostalCode Country  \n",
       "0  Avda. de la Constitución 2222  México D.F.      05021  Mexico  \n",
       "1                 Mataderos 2312  México D.F.      05023  Mexico  \n",
       "2                    Gran Vía, 1       Madrid      28001   Spain  "
      ]
     },
     "execution_count": 4,
     "metadata": {},
     "output_type": "execute_result"
    }
   ],
   "source": [
    "df = pd.read_sql_query(query, con)\n",
    "df"
   ]
  },
  {
   "cell_type": "code",
   "execution_count": 5,
   "metadata": {},
   "outputs": [
    {
     "name": "stdout",
     "output_type": "stream",
     "text": [
      "<class 'pandas.core.frame.DataFrame'>\n",
      "RangeIndex: 3 entries, 0 to 2\n",
      "Data columns (total 7 columns):\n",
      " #   Column        Non-Null Count  Dtype \n",
      "---  ------        --------------  ----- \n",
      " 0   CustomerID    3 non-null      int64 \n",
      " 1   CustomerName  3 non-null      object\n",
      " 2   ContactName   3 non-null      object\n",
      " 3   Address       3 non-null      object\n",
      " 4   City          3 non-null      object\n",
      " 5   PostalCode    3 non-null      object\n",
      " 6   Country       3 non-null      object\n",
      "dtypes: int64(1), object(6)\n",
      "memory usage: 300.0+ bytes\n"
     ]
    }
   ],
   "source": [
    "df.info()"
   ]
  },
  {
   "cell_type": "markdown",
   "metadata": {},
   "source": [
    "## Close the connection"
   ]
  },
  {
   "cell_type": "code",
   "execution_count": 6,
   "metadata": {},
   "outputs": [],
   "source": [
    "con.close()"
   ]
  }
 ],
 "metadata": {
  "kernelspec": {
   "display_name": "Python 3.9.13 ('base')",
   "language": "python",
   "name": "python3"
  },
  "language_info": {
   "codemirror_mode": {
    "name": "ipython",
    "version": 3
   },
   "file_extension": ".py",
   "mimetype": "text/x-python",
   "name": "python",
   "nbconvert_exporter": "python",
   "pygments_lexer": "ipython3",
   "version": "3.11.5"
  },
  "orig_nbformat": 4,
  "vscode": {
   "interpreter": {
    "hash": "2363ae793fd189f290a26deca8e7900981144e2049190375ca34c1677d370ab1"
   }
  }
 },
 "nbformat": 4,
 "nbformat_minor": 2
}
