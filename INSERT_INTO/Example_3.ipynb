{
 "cells": [
  {
   "cell_type": "markdown",
   "metadata": {},
   "source": [
    "# Example 3"
   ]
  },
  {
   "cell_type": "markdown",
   "metadata": {},
   "source": [
    "INSERT INTO SELECT"
   ]
  },
  {
   "cell_type": "markdown",
   "metadata": {},
   "source": [
    "## Import libraries"
   ]
  },
  {
   "cell_type": "code",
   "execution_count": 1,
   "metadata": {},
   "outputs": [],
   "source": [
    "import sqlite3\n",
    "import pandas as pd"
   ]
  },
  {
   "cell_type": "markdown",
   "metadata": {},
   "source": [
    "## Create a connection object"
   ]
  },
  {
   "cell_type": "code",
   "execution_count": 2,
   "metadata": {},
   "outputs": [],
   "source": [
    "con = sqlite3.connect('../Database.db')\n",
    "cur = con.cursor()"
   ]
  },
  {
   "cell_type": "markdown",
   "metadata": {},
   "source": [
    "## SQL statement"
   ]
  },
  {
   "cell_type": "code",
   "execution_count": 3,
   "metadata": {},
   "outputs": [],
   "source": [
    "# The INSERT INTO SELECT statement copies data from one table and inserts it into another table.\n",
    "# The INSERT INTO SELECT statement requires that the data types in source and target tables match.\n",
    "# Note: The existing records in the target table are unaffected.\n",
    "query = '''\n",
    "            INSERT INTO Customers (CustomerID, CustomerName, City, Country)\n",
    "            SELECT SupplierID, SupplierName, City, Country \n",
    "            FROM Suppliers\n",
    "        '''\n",
    "cur.execute(query);"
   ]
  },
  {
   "cell_type": "markdown",
   "metadata": {},
   "source": [
    "## Show table"
   ]
  },
  {
   "cell_type": "code",
   "execution_count": 4,
   "metadata": {},
   "outputs": [
    {
     "data": {
      "text/html": [
       "<div>\n",
       "<style scoped>\n",
       "    .dataframe tbody tr th:only-of-type {\n",
       "        vertical-align: middle;\n",
       "    }\n",
       "\n",
       "    .dataframe tbody tr th {\n",
       "        vertical-align: top;\n",
       "    }\n",
       "\n",
       "    .dataframe thead th {\n",
       "        text-align: right;\n",
       "    }\n",
       "</style>\n",
       "<table border=\"1\" class=\"dataframe\">\n",
       "  <thead>\n",
       "    <tr style=\"text-align: right;\">\n",
       "      <th></th>\n",
       "      <th>CustomerID</th>\n",
       "      <th>CustomerName</th>\n",
       "      <th>ContactName</th>\n",
       "      <th>Address</th>\n",
       "      <th>City</th>\n",
       "      <th>PostalCode</th>\n",
       "      <th>Country</th>\n",
       "    </tr>\n",
       "  </thead>\n",
       "  <tbody>\n",
       "    <tr>\n",
       "      <th>115</th>\n",
       "      <td>25</td>\n",
       "      <td>Ma Maison</td>\n",
       "      <td>None</td>\n",
       "      <td>None</td>\n",
       "      <td>Montréal</td>\n",
       "      <td>None</td>\n",
       "      <td>Canada</td>\n",
       "    </tr>\n",
       "    <tr>\n",
       "      <th>116</th>\n",
       "      <td>26</td>\n",
       "      <td>Pasta Buttini s.r.l.</td>\n",
       "      <td>None</td>\n",
       "      <td>None</td>\n",
       "      <td>Salerno</td>\n",
       "      <td>None</td>\n",
       "      <td>Italy</td>\n",
       "    </tr>\n",
       "    <tr>\n",
       "      <th>117</th>\n",
       "      <td>27</td>\n",
       "      <td>Escargots Nouveaux</td>\n",
       "      <td>None</td>\n",
       "      <td>None</td>\n",
       "      <td>Montceau</td>\n",
       "      <td>None</td>\n",
       "      <td>France</td>\n",
       "    </tr>\n",
       "    <tr>\n",
       "      <th>118</th>\n",
       "      <td>28</td>\n",
       "      <td>Gai pâturage</td>\n",
       "      <td>None</td>\n",
       "      <td>None</td>\n",
       "      <td>Annecy</td>\n",
       "      <td>None</td>\n",
       "      <td>France</td>\n",
       "    </tr>\n",
       "    <tr>\n",
       "      <th>119</th>\n",
       "      <td>29</td>\n",
       "      <td>Forêts d`érables</td>\n",
       "      <td>None</td>\n",
       "      <td>None</td>\n",
       "      <td>Ste-Hyacinthe</td>\n",
       "      <td>None</td>\n",
       "      <td>Canada</td>\n",
       "    </tr>\n",
       "  </tbody>\n",
       "</table>\n",
       "</div>"
      ],
      "text/plain": [
       "     CustomerID          CustomerName ContactName Address           City  \\\n",
       "115          25             Ma Maison        None    None       Montréal   \n",
       "116          26  Pasta Buttini s.r.l.        None    None        Salerno   \n",
       "117          27    Escargots Nouveaux        None    None       Montceau   \n",
       "118          28          Gai pâturage        None    None         Annecy   \n",
       "119          29      Forêts d`érables        None    None  Ste-Hyacinthe   \n",
       "\n",
       "    PostalCode Country  \n",
       "115       None  Canada  \n",
       "116       None   Italy  \n",
       "117       None  France  \n",
       "118       None  France  \n",
       "119       None  Canada  "
      ]
     },
     "execution_count": 4,
     "metadata": {},
     "output_type": "execute_result"
    }
   ],
   "source": [
    "query = '''\n",
    "            SELECT * \n",
    "            FROM Customers\n",
    "        '''\n",
    "df = pd.read_sql_query(query, con)\n",
    "df.tail()"
   ]
  },
  {
   "cell_type": "code",
   "execution_count": 5,
   "metadata": {},
   "outputs": [
    {
     "name": "stdout",
     "output_type": "stream",
     "text": [
      "<class 'pandas.core.frame.DataFrame'>\n",
      "RangeIndex: 120 entries, 0 to 119\n",
      "Data columns (total 7 columns):\n",
      " #   Column        Non-Null Count  Dtype \n",
      "---  ------        --------------  ----- \n",
      " 0   CustomerID    120 non-null    int64 \n",
      " 1   CustomerName  120 non-null    object\n",
      " 2   ContactName   91 non-null     object\n",
      " 3   Address       91 non-null     object\n",
      " 4   City          120 non-null    object\n",
      " 5   PostalCode    91 non-null     object\n",
      " 6   Country       120 non-null    object\n",
      "dtypes: int64(1), object(6)\n",
      "memory usage: 6.7+ KB\n"
     ]
    }
   ],
   "source": [
    "df.info()"
   ]
  },
  {
   "cell_type": "markdown",
   "metadata": {},
   "source": [
    "## Close the connection"
   ]
  },
  {
   "cell_type": "code",
   "execution_count": 6,
   "metadata": {},
   "outputs": [],
   "source": [
    "con.close()"
   ]
  }
 ],
 "metadata": {
  "kernelspec": {
   "display_name": "Python 3.9.12 ('base')",
   "language": "python",
   "name": "python3"
  },
  "language_info": {
   "codemirror_mode": {
    "name": "ipython",
    "version": 3
   },
   "file_extension": ".py",
   "mimetype": "text/x-python",
   "name": "python",
   "nbconvert_exporter": "python",
   "pygments_lexer": "ipython3",
   "version": "3.11.5"
  },
  "orig_nbformat": 4,
  "vscode": {
   "interpreter": {
    "hash": "3cfd106f785ae1e288da74ae733f9b47f8a2699db986927140be0bc196406f4c"
   }
  }
 },
 "nbformat": 4,
 "nbformat_minor": 2
}
