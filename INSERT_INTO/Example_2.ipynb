{
 "cells": [
  {
   "cell_type": "markdown",
   "metadata": {},
   "source": [
    "# Example 2"
   ]
  },
  {
   "cell_type": "markdown",
   "metadata": {},
   "source": [
    "Insert data in specific columns"
   ]
  },
  {
   "cell_type": "markdown",
   "metadata": {},
   "source": [
    "## Import libraries"
   ]
  },
  {
   "cell_type": "code",
   "execution_count": 1,
   "metadata": {},
   "outputs": [],
   "source": [
    "import sqlite3\n",
    "import pandas as pd"
   ]
  },
  {
   "cell_type": "markdown",
   "metadata": {},
   "source": [
    "## Create a connection object"
   ]
  },
  {
   "cell_type": "code",
   "execution_count": 2,
   "metadata": {},
   "outputs": [],
   "source": [
    "con = sqlite3.connect('../Database.db')\n",
    "cur = con.cursor()"
   ]
  },
  {
   "cell_type": "markdown",
   "metadata": {},
   "source": [
    "## SQL statement"
   ]
  },
  {
   "cell_type": "code",
   "execution_count": 3,
   "metadata": {},
   "outputs": [],
   "source": [
    "# It is also possible to only insert data in specific columns.\n",
    "# The following SQL statement will insert a new record, but only insert data in the \"CustomerName\", \"City\", and \"Country\" columns.\n",
    "query = '''\n",
    "            INSERT INTO Customers   (CustomerID, CustomerName, City, Country) VALUES \n",
    "                                    (92, 'Cardinal', 'Stavanger', 'Norway')\n",
    "        '''\n",
    "cur.execute(query);"
   ]
  },
  {
   "cell_type": "markdown",
   "metadata": {},
   "source": [
    "## Show table"
   ]
  },
  {
   "cell_type": "code",
   "execution_count": 4,
   "metadata": {},
   "outputs": [
    {
     "data": {
      "text/html": [
       "<div>\n",
       "<style scoped>\n",
       "    .dataframe tbody tr th:only-of-type {\n",
       "        vertical-align: middle;\n",
       "    }\n",
       "\n",
       "    .dataframe tbody tr th {\n",
       "        vertical-align: top;\n",
       "    }\n",
       "\n",
       "    .dataframe thead th {\n",
       "        text-align: right;\n",
       "    }\n",
       "</style>\n",
       "<table border=\"1\" class=\"dataframe\">\n",
       "  <thead>\n",
       "    <tr style=\"text-align: right;\">\n",
       "      <th></th>\n",
       "      <th>CustomerID</th>\n",
       "      <th>CustomerName</th>\n",
       "      <th>ContactName</th>\n",
       "      <th>Address</th>\n",
       "      <th>City</th>\n",
       "      <th>PostalCode</th>\n",
       "      <th>Country</th>\n",
       "    </tr>\n",
       "  </thead>\n",
       "  <tbody>\n",
       "    <tr>\n",
       "      <th>87</th>\n",
       "      <td>88</td>\n",
       "      <td>Wellington Importadora</td>\n",
       "      <td>Paula Parente</td>\n",
       "      <td>Rua do Mercado, 12</td>\n",
       "      <td>Resende</td>\n",
       "      <td>08737-363</td>\n",
       "      <td>Brazil</td>\n",
       "    </tr>\n",
       "    <tr>\n",
       "      <th>88</th>\n",
       "      <td>89</td>\n",
       "      <td>White Clover Markets</td>\n",
       "      <td>Karl Jablonski</td>\n",
       "      <td>305 - 14th Ave. S. Suite 3B</td>\n",
       "      <td>Seattle</td>\n",
       "      <td>98128</td>\n",
       "      <td>USA</td>\n",
       "    </tr>\n",
       "    <tr>\n",
       "      <th>89</th>\n",
       "      <td>90</td>\n",
       "      <td>Wilman Kala</td>\n",
       "      <td>Matti Karttunen</td>\n",
       "      <td>Keskuskatu 45</td>\n",
       "      <td>Helsinki</td>\n",
       "      <td>21240</td>\n",
       "      <td>Finland</td>\n",
       "    </tr>\n",
       "    <tr>\n",
       "      <th>90</th>\n",
       "      <td>91</td>\n",
       "      <td>Wolski</td>\n",
       "      <td>Zbyszek</td>\n",
       "      <td>ul. Filtrowa 68</td>\n",
       "      <td>Walla</td>\n",
       "      <td>01-012</td>\n",
       "      <td>Poland</td>\n",
       "    </tr>\n",
       "    <tr>\n",
       "      <th>91</th>\n",
       "      <td>92</td>\n",
       "      <td>Cardinal</td>\n",
       "      <td>None</td>\n",
       "      <td>None</td>\n",
       "      <td>Stavanger</td>\n",
       "      <td>None</td>\n",
       "      <td>Norway</td>\n",
       "    </tr>\n",
       "  </tbody>\n",
       "</table>\n",
       "</div>"
      ],
      "text/plain": [
       "    CustomerID            CustomerName      ContactName  \\\n",
       "87          88  Wellington Importadora    Paula Parente   \n",
       "88          89    White Clover Markets   Karl Jablonski   \n",
       "89          90             Wilman Kala  Matti Karttunen   \n",
       "90          91                  Wolski          Zbyszek   \n",
       "91          92                Cardinal             None   \n",
       "\n",
       "                        Address       City PostalCode  Country  \n",
       "87           Rua do Mercado, 12    Resende  08737-363   Brazil  \n",
       "88  305 - 14th Ave. S. Suite 3B    Seattle      98128      USA  \n",
       "89                Keskuskatu 45   Helsinki      21240  Finland  \n",
       "90              ul. Filtrowa 68      Walla     01-012   Poland  \n",
       "91                         None  Stavanger       None   Norway  "
      ]
     },
     "execution_count": 4,
     "metadata": {},
     "output_type": "execute_result"
    }
   ],
   "source": [
    "query = '''\n",
    "            SELECT * \n",
    "            FROM Customers\n",
    "        '''\n",
    "df = pd.read_sql_query(query, con)\n",
    "df.tail()"
   ]
  },
  {
   "cell_type": "code",
   "execution_count": 5,
   "metadata": {},
   "outputs": [
    {
     "name": "stdout",
     "output_type": "stream",
     "text": [
      "<class 'pandas.core.frame.DataFrame'>\n",
      "RangeIndex: 92 entries, 0 to 91\n",
      "Data columns (total 7 columns):\n",
      " #   Column        Non-Null Count  Dtype \n",
      "---  ------        --------------  ----- \n",
      " 0   CustomerID    92 non-null     int64 \n",
      " 1   CustomerName  92 non-null     object\n",
      " 2   ContactName   91 non-null     object\n",
      " 3   Address       91 non-null     object\n",
      " 4   City          92 non-null     object\n",
      " 5   PostalCode    91 non-null     object\n",
      " 6   Country       92 non-null     object\n",
      "dtypes: int64(1), object(6)\n",
      "memory usage: 5.2+ KB\n"
     ]
    }
   ],
   "source": [
    "df.info()"
   ]
  },
  {
   "cell_type": "markdown",
   "metadata": {},
   "source": [
    "## Close the connection"
   ]
  },
  {
   "cell_type": "code",
   "execution_count": 6,
   "metadata": {},
   "outputs": [],
   "source": [
    "con.close()"
   ]
  }
 ],
 "metadata": {
  "kernelspec": {
   "display_name": "Python 3.9.12 ('base')",
   "language": "python",
   "name": "python3"
  },
  "language_info": {
   "codemirror_mode": {
    "name": "ipython",
    "version": 3
   },
   "file_extension": ".py",
   "mimetype": "text/x-python",
   "name": "python",
   "nbconvert_exporter": "python",
   "pygments_lexer": "ipython3",
   "version": "3.11.5"
  },
  "orig_nbformat": 4,
  "vscode": {
   "interpreter": {
    "hash": "3cfd106f785ae1e288da74ae733f9b47f8a2699db986927140be0bc196406f4c"
   }
  }
 },
 "nbformat": 4,
 "nbformat_minor": 2
}
